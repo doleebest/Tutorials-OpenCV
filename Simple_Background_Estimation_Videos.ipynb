{
 "cells": [
  {
   "cell_type": "code",
   "execution_count": 25,
   "metadata": {},
   "outputs": [
    {
     "data": {
      "text/plain": [
       "113"
      ]
     },
     "execution_count": 25,
     "metadata": {},
     "output_type": "execute_result"
    }
   ],
   "source": [
    "# Using the median for background estimation\n",
    "# a video sequence, we can randomly sample a few frames (say 25 frames).\n",
    "\n",
    "# Background Estimation Code\n",
    "import numpy as np\n",
    "import cv2\n",
    "from skimage import data, filters\n",
    "\n",
    "# Open video\n",
    "cap = cv2.VideoCapture('video.mov')\n",
    "\n",
    "#Randomly select 25 frames\n",
    "frameIds = cap.get(cv2.CAP_PROP_FRAME_COUNT) * np.random.uniform(size=25)\n",
    "\n",
    "#store selected frames in an array\n",
    "frames=[]\n",
    "for fid in frameIds : \n",
    "    cap.set(cv2.CAP_PROP_POS_FRAMES, fid)\n",
    "    ret, frame = cap.read()\n",
    "    frames.append(frame)\n",
    "\n",
    "#calculate the median along the time axis\n",
    "    medianFrame = np.median(frames, axis=0).astype(dtype=np.uint8)\n",
    "\n",
    "#display median frame\n",
    "cv2.imshow('frame', medianFrame)\n",
    "cv2.waitKey(0)\n"
   ]
  },
  {
   "cell_type": "code",
   "execution_count": 27,
   "metadata": {},
   "outputs": [],
   "source": [
    "# Framing differencing\n",
    "# Convert the median frame to grayscale.\n",
    "# Loop over all frames in the video. Extract the current frame and convert it to grayscale.\n",
    "# Calcualte the absolute difference between the current frame and the median frame.\n",
    "# Threshold the above image to remove noise and binarize the output."
   ]
  },
  {
   "cell_type": "code",
   "execution_count": null,
   "metadata": {},
   "outputs": [],
   "source": [
    "# reset frame number to 0\n",
    "cap.set(cv2.CAP_POP_POS_FRAMES, 0)\n",
    "\n",
    "#convert background to grayscale\n",
    "grayMedianFrame = cv2.cvtColor(medianFrame, cv2.COLOR_BGR2GRAY)\n",
    "\n",
    "#loop over all frames\n",
    "ret = True # ret은 cap.read() 함수가 프레임을 성공적으로 읽었는지 여부\n",
    "while(ret) : \n",
    "    # read frame\n",
    "    ret, frame = cap.read()\n",
    "    # convert current frame to grayscale\n",
    "    frame = cv2.cvtColor(frame, cv2.COLOR_BGR2GRAY)\n",
    "    #Calculate absolute difference of current frame and the median frame\n",
    "    dframe = cv2.absdiff(frame, grayMedianFrame)\n",
    "    #threshold to binarize\n",
    "    th, dframe = cv2.threshold(dframe,30, 255, cv2.THRESH_BINARY)\n",
    "    #display image\n",
    "    cv2.imshow('frame', dframe)\n",
    "    cv2.waitKey(20)\n",
    "\n",
    "#release video object\n",
    "cap.release()\n",
    "\n",
    "# destroy all windows\n",
    "cv2.destroyAllWindows()"
   ]
  }
 ],
 "metadata": {
  "kernelspec": {
   "display_name": "OpenCV-master-py3",
   "language": "python",
   "name": "python3"
  },
  "language_info": {
   "codemirror_mode": {
    "name": "ipython",
    "version": 3
   },
   "file_extension": ".py",
   "mimetype": "text/x-python",
   "name": "python",
   "nbconvert_exporter": "python",
   "pygments_lexer": "ipython3",
   "version": "3.11.5"
  }
 },
 "nbformat": 4,
 "nbformat_minor": 2
}
