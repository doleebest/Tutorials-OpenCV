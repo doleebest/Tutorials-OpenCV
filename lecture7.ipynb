{
 "cells": [
  {
   "cell_type": "code",
   "execution_count": 3,
   "metadata": {},
   "outputs": [],
   "source": [
    "import cv2\n",
    "bright = cv2.imread('cube1.jpg')\n",
    "dark = cv2.imread('cube8.jpg')"
   ]
  },
  {
   "cell_type": "code",
   "execution_count": 7,
   "metadata": {},
   "outputs": [],
   "source": [
    "#observation : significant perceptual non-uniformity\n",
    "#mixing of chrominance (color related information) and luminance (intensity related information) data\n",
    "\n",
    "#Lab color-space\n",
    "#L-lightness(intensity) ; independent of color info and encodes brightness only\n",
    "#a-color component ranging from green to magenta ; encode color\n",
    "#b-color component ranging from blue to yellow ; encode color\n",
    "\n",
    "# it has the following properties\n",
    "# perceptually uniform color space which approximates how we perceive color\n",
    "# Independent of device ( capturing or displaying)\n",
    "# Used extensively in Adobe Photoshop\n",
    "# Is related to the RGB color space by a complex transformation equation"
   ]
  },
  {
   "cell_type": "code",
   "execution_count": 4,
   "metadata": {},
   "outputs": [],
   "source": [
    "#python\n",
    "brightLAB = cv2.cvtColor(bright, cv2.COLOR_BGR2LAB)\n",
    "darkLAB = cv2.cvtColor(dark, cv2.COLOR_BGR2LAB)"
   ]
  },
  {
   "cell_type": "code",
   "execution_count": 1,
   "metadata": {},
   "outputs": [],
   "source": [
    "#observation\n",
    "# Similar observations as LAB can be made for Intensity and color components with regard to Illumination changes.\n",
    "# Perceptual difference between Red and Orange is less even in the outdoor image as compared to LAB.\n",
    "# White has undergone change in all 3 components.\n",
    "\n",
    "#HSV color space\n",
    "# H – Hue ( Dominant Wavelength ).\n",
    "# S – Saturation ( Purity / shades of the color ).\n",
    "# V – Value ( Intensity ).\n",
    "\n",
    "# Best thing is that it uses only one channel to describe color (H), making it very intuitive to specify color.\n",
    "# Device dependent."
   ]
  },
  {
   "cell_type": "code",
   "execution_count": 5,
   "metadata": {},
   "outputs": [],
   "source": [
    "brightHSV = cv2.cvtColor(bright, cv2.COLOR_BGR2HSV)\n",
    "darkHSV = cv2.cvtColor(dark, cv2.COLOR_BGR2HSV)"
   ]
  },
  {
   "cell_type": "code",
   "execution_count": 6,
   "metadata": {},
   "outputs": [],
   "source": [
    "# observation\n",
    "# The H Component is very similar in both the images which indicates the color information is intact even under illumination changes.\n",
    "# The S component is also very similar in both images.\n",
    "# The V Component captures the amount of light falling on it thus it changes due to illumination changes.\n",
    "# There is drastic difference between the values of the red piece of outdoor and Indoor image. This is because Hue is represented as a circle and red is at the starting angle. So, it may take values between [300, 360] and again [0, 60]."
   ]
  },
  {
   "cell_type": "code",
   "execution_count": 7,
   "metadata": {},
   "outputs": [],
   "source": [
    "# how to use these color spaces for segmentation\n",
    "# the simplest way : lets first try to use them to detect the green color from the cube.\n",
    "\n",
    "#step1 : get the color values for a particular color\n",
    "#step2: applying threshold for segmentation"
   ]
  },
  {
   "cell_type": "code",
   "execution_count": null,
   "metadata": {},
   "outputs": [],
   "source": [
    "#python\n",
    "bgr = [40,158,16]\n",
    "thresh = 40\n",
    "\n"
   ]
  }
 ],
 "metadata": {
  "kernelspec": {
   "display_name": "OpenCV-master-py3",
   "language": "python",
   "name": "python3"
  },
  "language_info": {
   "codemirror_mode": {
    "name": "ipython",
    "version": 3
   },
   "file_extension": ".py",
   "mimetype": "text/x-python",
   "name": "python",
   "nbconvert_exporter": "python",
   "pygments_lexer": "ipython3",
   "version": "3.11.5"
  }
 },
 "nbformat": 4,
 "nbformat_minor": 2
}
