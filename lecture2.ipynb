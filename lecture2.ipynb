{
 "cells": [
  {
   "cell_type": "code",
   "execution_count": 1,
   "metadata": {},
   "outputs": [
    {
     "data": {
      "text/plain": [
       "True"
      ]
     },
     "execution_count": 1,
     "metadata": {},
     "output_type": "execute_result"
    }
   ],
   "source": [
    "# import the cv2 library\n",
    "import cv2\n",
    " \n",
    "# The function cv2.imread() is used to read an image.\n",
    "img_grayscale = cv2.imread('test.jpg',0)\n",
    " \n",
    "# The function cv2.imshow() is used to display an image in a window.\n",
    "cv2.imshow('graycsale image',img_grayscale)\n",
    " \n",
    "# waitKey() waits for a key press to close the window and 0 specifies indefinite loop\n",
    "cv2.waitKey(0)\n",
    " \n",
    "# cv2.destroyAllWindows() simply destroys all the windows we created.\n",
    "cv2.destroyAllWindows()\n",
    " \n",
    "# The function cv2.imwrite() is used to write an image.\n",
    "cv2.imwrite('grayscale.jpg',img_grayscale)"
   ]
  },
  {
   "cell_type": "code",
   "execution_count": 4,
   "metadata": {},
   "outputs": [],
   "source": [
    "#Reading an Image\n",
    "img_color = cv2.imread('test.jpg', cv2.IMREAD_COLOR)\n",
    "img_grayscale = cv2.imread('test.jpg', cv2.IMREAD_GRAYSCALE)\n",
    "img_unchanged = cv2.imread('test.jpg', cv2.IMREAD_UNCHANGED)"
   ]
  },
  {
   "cell_type": "code",
   "execution_count": 5,
   "metadata": {},
   "outputs": [],
   "source": [
    "# Read an image with integers\n",
    "img_color = cv2.imread('test.jpg', 1)\n",
    "img_grayscale = cv2.imread('test.jpg', 0)\n",
    "img_unchanged = cv2.imread('test.jpg', -1)"
   ]
  },
  {
   "cell_type": "code",
   "execution_count": null,
   "metadata": {},
   "outputs": [],
   "source": [
    "#Displaying an Image\n",
    "\n",
    "#Displays image inside a window\n",
    "cv2.imshow('color image', img_color)\n",
    "cv2.imshow('gray image', img_grayscale)\n",
    "cv2.imshow('unchanged image', img_unchanged)\n",
    "\n",
    "#waits for a keystroke\n",
    "cv2.waitKey(0)\n",
    "\n",
    "#destroys all the windows created\n",
    "destroyAllwindows()"
   ]
  },
  {
   "cell_type": "code",
   "execution_count": null,
   "metadata": {},
   "outputs": [],
   "source": [
    "cv2.imwrite('grayscale.jpg',img_grayscale)"
   ]
  }
 ],
 "metadata": {
  "kernelspec": {
   "display_name": "Python 3 (ipykernel)",
   "language": "python",
   "name": "python3"
  },
  "language_info": {
   "codemirror_mode": {
    "name": "ipython",
    "version": 3
   },
   "file_extension": ".py",
   "mimetype": "text/x-python",
   "name": "python",
   "nbconvert_exporter": "python",
   "pygments_lexer": "ipython3",
   "version": "3.11.5"
  }
 },
 "nbformat": 4,
 "nbformat_minor": 4
}
