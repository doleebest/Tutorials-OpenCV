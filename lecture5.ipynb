{
 "cells": [
  {
   "cell_type": "code",
   "execution_count": null,
   "id": "28df2596",
   "metadata": {},
   "outputs": [],
   "source": [
    "#importing the libraries\n",
    "import cv2\n",
    "import numpy as np\n",
    "\n",
    "img = cv2.imread('test.jpg')\n",
    "\n",
    "#prints dimensions of the image\n",
    "print(img.shape) # 높이, 넓이, 채널\n",
    "\n",
    "#display the image\n",
    "cv2.imshow(\"original\",img)\n",
    "cv2.waitKey(0)\n",
    "cv2.destroyAllWindows()"
   ]
  },
  {
   "cell_type": "code",
   "execution_count": null,
   "id": "66af1c0f",
   "metadata": {},
   "outputs": [],
   "source": [
    "#slicing to crop the image\n",
    "#cropped = img[start_row:end_row, start_col:end_col]\n",
    "cropped_image = img[80:280, 150:330]\n",
    "\n",
    "#display the cropped the image\n",
    "cv2.imshow(\"cropped\",cropped_image)\n",
    "cv2.waitKey(0)\n",
    "cv2.destroyAllWindows()"
   ]
  },
  {
   "cell_type": "code",
   "execution_count": null,
   "id": "db87105e",
   "metadata": {},
   "outputs": [],
   "source": [
    "#dividing an image into small patches using cropping\n",
    "img = cv2.imread(\"test_cropped.jpg\")\n",
    "image_copy = img.copy()\n",
    "imgheight=img.shape[0]\n",
    "imgwidth=img.shape[1]"
   ]
  },
  {
   "cell_type": "code",
   "execution_count": null,
   "id": "d055eca4",
   "metadata": {},
   "outputs": [],
   "source": [
    "M=76\n",
    "N=104\n",
    "x1=0\n",
    "y1=0\n",
    "\n",
    "for y in range(0,imgheight,M) : \n",
    "    for x in range(0,imgwidth, N):\n",
    "        if(imgheight-y)<M or (imgwidth-x)<N:\n",
    "            break\n",
    "        y1=y+M\n",
    "        x1=x+N\n",
    "        \n",
    "        #check whether the patch width or height exceeds the image width or height\n",
    "        if x1 >= imgwidth and y1>=imgheight:\n",
    "            x1 = imgwidth-1\n",
    "            y1 = imgheight-1\n",
    "            \n",
    "            #crop into patches of size MxN\n",
    "            tiles = image_copy[y:y+M, x:x+N]\n",
    "            \n",
    "            #save each patch into file directory\n",
    "            # str() 함수는 parameter를 문자열로 변환시켜주는 역할\n",
    "            cv2.imwrite('saved_patches/'+'tile'+str(x)+'_'+str(y)+'.jpg',tiles)\n",
    "            cv2.rectangle(img, (x,y), (x1,y1), (0,255,0),1) #img 이미지에 (x, y)에서 (x1, y1)까지의 좌표로 초록색 사각형\n",
    "        \n",
    "        elif y1>= imgheight: #when patch height exceeds the image height\n",
    "            y1 = imgheight -1\n",
    "            #crop into patches of size MxN\n",
    "            tiles = image_copy[y:y+M, x:x+N]\n",
    "            #save each patch into file directory\n",
    "            cv2.imwrite('saved_patches/'+tile+str(x)+'_'+str(y)+'.jpg'+tiles)\n",
    "            cv2.rectangle(img,(x,y),(x1,y1),(0,255,0),1)\n",
    "        elif x1 >= imgwidth-1\n",
    "        #crop into patches of size MxN\n",
    "            tiles = image_copy[y:y+M, x:x+N]\n",
    "            #save each patch into file directory\n",
    "            cv2.imwrite('saved_patches/'+'tile'+str(x)+'_'+str(y)+'.jpg', tiles)\n",
    "            cv2.rectangle(img, (x, y), (x1, y1), (0, 255, 0), 1)\n",
    "        else:\n",
    "            #crop into patches of size MxN\n",
    "            tiles = image_copy[y:y+M, x:x+N]\n",
    "            #Save each patch into file directory\n",
    "            cv2.imwrite('saved_patches/'+'tile'+str(x)+'_'+str(y)+'.jpg', tiles)\n",
    "            cv2.rectangle(img, (x, y), (x1, y1), (0, 255, 0), 1)"
   ]
  },
  {
   "cell_type": "code",
   "execution_count": null,
   "id": "8891afec",
   "metadata": {},
   "outputs": [],
   "source": [
    "#save full image into file directory\n",
    "cv2.imshow(\"patches image\",img)\n",
    "cv2.imwrite(\"patched,jpg\",img)\n",
    "\n",
    "cv2.waitKey()\n",
    "cv2.destroyAllWindows()"
   ]
  },
  {
   "cell_type": "code",
   "execution_count": null,
   "id": "16cc50ea",
   "metadata": {},
   "outputs": [],
   "source": []
  }
 ],
 "metadata": {
  "kernelspec": {
   "display_name": "Python 3 (ipykernel)",
   "language": "python",
   "name": "python3"
  },
  "language_info": {
   "codemirror_mode": {
    "name": "ipython",
    "version": 3
   },
   "file_extension": ".py",
   "mimetype": "text/x-python",
   "name": "python",
   "nbconvert_exporter": "python",
   "pygments_lexer": "ipython3",
   "version": "3.11.5"
  }
 },
 "nbformat": 4,
 "nbformat_minor": 5
}
