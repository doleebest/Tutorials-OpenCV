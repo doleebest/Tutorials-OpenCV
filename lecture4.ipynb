{
 "cells": [
  {
   "cell_type": "code",
   "execution_count": 1,
   "id": "60f257f9",
   "metadata": {},
   "outputs": [],
   "source": [
    "# Importing the libraries  \n",
    "import cv2\n",
    "import numpy as np"
   ]
  },
  {
   "cell_type": "code",
   "execution_count": 3,
   "id": "ff45d699",
   "metadata": {},
   "outputs": [],
   "source": [
    "# Reading image\n",
    "image= cv2.imread('image.jpg')"
   ]
  },
  {
   "cell_type": "code",
   "execution_count": 5,
   "id": "c1a856dc",
   "metadata": {},
   "outputs": [
    {
     "name": "stdout",
     "output_type": "stream",
     "text": [
      "Original Height and Width 441 x 1280\n"
     ]
    }
   ],
   "source": [
    "#Get orginal height and width\n",
    "# when images are read using OpenCV -> NumPyarrays\n",
    "h,w,c = image.shape\n",
    "print(\"Original Height and Width\", h,\"x\",w)"
   ]
  },
  {
   "cell_type": "code",
   "execution_count": 8,
   "id": "1b6d4b07",
   "metadata": {},
   "outputs": [],
   "source": [
    "#Resizing by specifying width and height\n",
    "#set rows and columns\n",
    "#lets downsize the image using new width and height\n",
    "down_width = 300\n",
    "down_height = 200\n",
    "down_points = (down_width, down_height)\n",
    "resize_down = cv2.resize(image, down_points, interpolation=cv2.INTER_LINEAR)"
   ]
  },
  {
   "cell_type": "code",
   "execution_count": 11,
   "id": "3f9c4704",
   "metadata": {},
   "outputs": [],
   "source": [
    "#Resizing with a scaling factor\n",
    "#Scaling up the image 1.2 times by scpecifying both scaling facotrs\n",
    "scale_up_x = 1.2\n",
    "scale_up_y = 1.2\n",
    "\n",
    "#Scaling down the image 0.6 times specifying a single scale factor\n",
    "scale_down = 0.6\n",
    "\n",
    "scaled_f_down = cv2.resize(image,None,fx=scale_down, fy=scale_down, interpolation=cv2.INTER_LINEAR)\n",
    "scaled_f_up = cv2.resize(image, None, fx=scale_up_x, fy=scale_up_y, interpolation= cv2.INTER_LINEAR)"
   ]
  },
  {
   "cell_type": "code",
   "execution_count": 13,
   "id": "b877b908",
   "metadata": {},
   "outputs": [
    {
     "data": {
      "text/plain": [
       "32"
      ]
     },
     "execution_count": 13,
     "metadata": {},
     "output_type": "execute_result"
    }
   ],
   "source": [
    "#Display images and press any key to check next image\n",
    "cv2.imshow('Resized Down by defining scaling factor', scaled_f_down)\n",
    "cv2.waitKey()\n",
    "cv2.imshow('Resized Up image by defining scaling facotr', scaled_f_up)\n",
    "cv2.waitKey()"
   ]
  },
  {
   "cell_type": "code",
   "execution_count": 14,
   "id": "54f9ee8e",
   "metadata": {},
   "outputs": [],
   "source": [
    "#scaling down the image 0.6 times using different interpolation method\n",
    "res_inter_nearest = cv2.resize(image, None, fx=scale_down, fy=scale_down, interpolation=cv2.INTER_NEAREST)\n",
    "res_inter_linear = cv2.resize(image, None, fx=scale_down, fy=scale_down, interpolation=cv2.INTER_LINEAR)\n",
    "res_inter_area = cv2.resize(image, None, fx=scale_down, fy=scale_down, interpolation=cv2.INTER_AREA)"
   ]
  },
  {
   "cell_type": "code",
   "execution_count": 15,
   "id": "29b9db15",
   "metadata": {},
   "outputs": [],
   "source": [
    "#concatenate images in horizontal axis for comparison\n",
    "vertical = np.concatenate((res_inter_nearest, res_inter_linear, res_inter_area),axis=0)\n",
    "\n",
    "#display the image press any key to continue\n",
    "cv2.imshow('Inter Nearest :: Inter Linear :: Inter Area',vertical)"
   ]
  },
  {
   "cell_type": "code",
   "execution_count": null,
   "id": "f77665ff",
   "metadata": {},
   "outputs": [],
   "source": []
  }
 ],
 "metadata": {
  "kernelspec": {
   "display_name": "Python 3 (ipykernel)",
   "language": "python",
   "name": "python3"
  },
  "language_info": {
   "codemirror_mode": {
    "name": "ipython",
    "version": 3
   },
   "file_extension": ".py",
   "mimetype": "text/x-python",
   "name": "python",
   "nbconvert_exporter": "python",
   "pygments_lexer": "ipython3",
   "version": "3.11.5"
  }
 },
 "nbformat": 4,
 "nbformat_minor": 5
}
