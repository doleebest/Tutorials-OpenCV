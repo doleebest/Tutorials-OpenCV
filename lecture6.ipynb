{
 "cells": [
  {
   "cell_type": "code",
   "execution_count": 1,
   "id": "b692f3ad",
   "metadata": {},
   "outputs": [],
   "source": [
    "# adding information to your demos\n",
    "# drawing bounding boxes around objects in case of object detection\n",
    "# highlighting pixels with different colors for image segmentation"
   ]
  },
  {
   "cell_type": "code",
   "execution_count": 3,
   "id": "4bb4d28c",
   "metadata": {},
   "outputs": [
    {
     "data": {
      "text/plain": [
       "32"
      ]
     },
     "execution_count": 3,
     "metadata": {},
     "output_type": "execute_result"
    }
   ],
   "source": [
    "import cv2\n",
    "img = cv2.imread('sample.jpg')\n",
    "cv2.imshow('orginal img', img)\n",
    "\n",
    "#print error message if image is null\n",
    "if img is None : \n",
    "    print('could not read image')\n",
    "\n",
    "#draw line on image\n",
    "imageLine = img.copy()\n",
    "# Draw the image from point a to b\n",
    "pointA = (200,80)\n",
    "pointB = (450,80)\n",
    "cv2.line(imageLine, pointA, pointB, (255,255,0), thickness=3, lineType=cv2.LINE_AA)\n",
    "cv2.imshow('image line',imageLine)\n",
    "cv2.waitKey(0)"
   ]
  },
  {
   "cell_type": "code",
   "execution_count": 5,
   "id": "2ef8a8e7",
   "metadata": {},
   "outputs": [
    {
     "data": {
      "text/plain": [
       "32"
      ]
     },
     "execution_count": 5,
     "metadata": {},
     "output_type": "execute_result"
    }
   ],
   "source": [
    "# draw a circle\n",
    "\n",
    "imageCircle = img.copy()\n",
    "circle_center = (415,190)\n",
    "radius = 100\n",
    "\n",
    "cv2.circle(imageCircle, circle_center, radius, (0,0,255), thickness=3, lineType=cv2.LINE_AA)\n",
    "cv2.imshow(\"image circle\", imageCircle)\n",
    "cv2.waitKey(0)"
   ]
  },
  {
   "cell_type": "code",
   "execution_count": 7,
   "id": "9b8ee786",
   "metadata": {},
   "outputs": [
    {
     "data": {
      "text/plain": [
       "27"
      ]
     },
     "execution_count": 7,
     "metadata": {},
     "output_type": "execute_result"
    }
   ],
   "source": [
    "imageFilledCircle = img.copy()\n",
    "circle_center = (415,190)\n",
    "radius = 100\n",
    "\n",
    "#draw the filled circle on input image\n",
    "cv2.circle(imageFilledCircle, circle_center, radius, (255,0,0), thickness=-1, lineType=cv2.LINE_AA)\n",
    "\n",
    "cv2.imshow('image with filled circle', imageFilledCircle)\n",
    "cv2.waitKey(0)"
   ]
  },
  {
   "cell_type": "code",
   "execution_count": 8,
   "id": "f0d529c5",
   "metadata": {},
   "outputs": [
    {
     "data": {
      "text/plain": [
       "32"
      ]
     },
     "execution_count": 8,
     "metadata": {},
     "output_type": "execute_result"
    }
   ],
   "source": [
    "imageRectangle = img.copy()\n",
    "\n",
    "#define the starting and end points of the rectangle\n",
    "start_point = (300,115)\n",
    "end_point = (475,225)\n",
    "\n",
    "#draw the rectangle\n",
    "cv2.rectangle(imageRectangle, start_point, end_point, (0,0,255), thickness=3, lineType=cv2.LINE_8)\n",
    "cv2.imshow('imageRectangle',imageRectangle)\n",
    "cv2.waitKey(0)"
   ]
  },
  {
   "cell_type": "code",
   "execution_count": 10,
   "id": "37eccebd",
   "metadata": {},
   "outputs": [
    {
     "data": {
      "text/plain": [
       "32"
      ]
     },
     "execution_count": 10,
     "metadata": {},
     "output_type": "execute_result"
    }
   ],
   "source": [
    "imageEllipse = img.copy()\n",
    "ellipse_center = (415,190)\n",
    "\n",
    "#define the major and minor axes of the ellipse\n",
    "axis1 = (100,50)\n",
    "axis2 = (125,50)\n",
    "\n",
    "#draw the ellipse\n",
    "#Horizontal\n",
    "cv2.ellipse(imageEllipse, ellipse_center, axis1, 0,0,360, (255,0,0), thickness=3)\n",
    "#Vertical\n",
    "cv2.ellipse(imageEllipse, ellipse_center, axis2, 90, 0, 360, (0,0,255), thickness=3)\n",
    "\n",
    "cv2.imshow('ellipse image', imageEllipse)\n",
    "cv2.waitKey(0)"
   ]
  },
  {
   "cell_type": "code",
   "execution_count": 11,
   "id": "4b1e8a37",
   "metadata": {},
   "outputs": [
    {
     "data": {
      "text/plain": [
       "32"
      ]
     },
     "execution_count": 11,
     "metadata": {},
     "output_type": "execute_result"
    }
   ],
   "source": [
    "halfEllipse = img.copy()\n",
    "ellipse_center = (415,190)\n",
    "axis1 = (100,50)\n",
    "\n",
    "#draw the incomplete/open ellipse, just a outline\n",
    "cv2.ellipse(halfEllipse, ellipse_center, axis1, 0,180,360, (255,0,0), thickness=3)\n",
    "# if you want to draw a filled ellipse, use this line of code\n",
    "cv2.ellipse(halfEllipse, ellipse_center, axis1, 0,0,180, (0,0,255), thickness=-2)\n",
    "\n",
    "cv2.imshow('halfEllipse', halfEllipse)\n",
    "cv2.waitKey(0)"
   ]
  },
  {
   "cell_type": "code",
   "execution_count": 13,
   "id": "ada572fc",
   "metadata": {},
   "outputs": [],
   "source": [
    "imageText = img.copy()\n",
    "text = 'i am a happy dog!'\n",
    "\n",
    "#org : where you want to put the text\n",
    "org = (50,350)\n",
    "#write the text on the input image\n",
    "cv2.putText(imageText, text, org, fontFace = cv2.FONT_HERSHEY_SIMPLEX, fontScale=1.5, color=(250,225100))\n",
    "\n",
    "cv2.imshow('image text',imageText)\n",
    "cv2.waitKey(0)\n",
    "cv2.destroyAllWindows()"
   ]
  }
 ],
 "metadata": {
  "kernelspec": {
   "display_name": "Python 3 (ipykernel)",
   "language": "python",
   "name": "python3"
  },
  "language_info": {
   "codemirror_mode": {
    "name": "ipython",
    "version": 3
   },
   "file_extension": ".py",
   "mimetype": "text/x-python",
   "name": "python",
   "nbconvert_exporter": "python",
   "pygments_lexer": "ipython3",
   "version": "3.11.5"
  }
 },
 "nbformat": 4,
 "nbformat_minor": 5
}
