{
 "cells": [
  {
   "cell_type": "code",
   "execution_count": 1,
   "id": "00445fd2-dd99-48dc-819f-16112d67e42c",
   "metadata": {},
   "outputs": [],
   "source": [
    "import cv2"
   ]
  },
  {
   "cell_type": "code",
   "execution_count": 19,
   "id": "ad3dccc6-0130-496f-b286-cbec545ff77d",
   "metadata": {},
   "outputs": [],
   "source": [
    "#Reading Video From a File\n",
    "\n",
    "#Create a video capture object, in this case we are reading the video from a file\n",
    "vid_capture = cv2.VideoCapture('video.MOV')"
   ]
  },
  {
   "cell_type": "code",
   "execution_count": 6,
   "id": "83244571-54e0-45c4-bfad-104034ccbc15",
   "metadata": {},
   "outputs": [
    {
     "name": "stdout",
     "output_type": "stream",
     "text": [
      "Frame rate :  26 frames per second\n",
      "Frame count :  50.0\n"
     ]
    }
   ],
   "source": [
    "if(vid_capture.isOpened() == False):\n",
    "    print(\"Error opening the video file\")\n",
    "else:\n",
    "    #Get frame rate information\n",
    "\n",
    "    fps = int(vid_capture.get(5))\n",
    "    print(\"Frame rate : \", fps,\"frames per second\")\n",
    "\n",
    "    #Get frame count\n",
    "    frame_count = vid_capture.get(7)\n",
    "    print(\"Frame count : \", frame_count)"
   ]
  },
  {
   "cell_type": "code",
   "execution_count": 8,
   "id": "71cd30ce-e31a-468d-b896-cb70d43c4a4c",
   "metadata": {},
   "outputs": [],
   "source": [
    "while (vid_capture.isOpened()):\n",
    "    #vCapture.read() methods returns a tuple, first element is a bool\n",
    "    # and the second is frame\n",
    "\n",
    "    ret, frame = vid_capture.read()\n",
    "    if ret == True:\n",
    "        cv2.imshow('Frame', frame)\n",
    "        k=cv2.waitKey(20)\n",
    "        #113 is ASCII code for a key\n",
    "        if k == 113 : \n",
    "            break\n",
    "        else:\n",
    "            break"
   ]
  },
  {
   "cell_type": "code",
   "execution_count": 9,
   "id": "8adb71da-b859-40a6-a97c-0184f210be2f",
   "metadata": {},
   "outputs": [],
   "source": [
    "#Release the objects\n",
    "vid_capture.release()\n",
    "cv2.destroyAllWindows()"
   ]
  },
  {
   "cell_type": "code",
   "execution_count": 10,
   "id": "64e92221-3be5-4916-8f12-6f34eeb2d9c2",
   "metadata": {},
   "outputs": [
    {
     "name": "stderr",
     "output_type": "stream",
     "text": [
      "[image2 @ 0x132625230] Could find no file with path 'Cars%04d.jpg' and index in the range 0-4\n",
      "OpenCV: Couldn't read video stream from file \"Cars%04d.jpg\"\n"
     ]
    }
   ],
   "source": [
    "#Reading an Image sequence\n",
    "vid_capture = cv2.VideoCapture('Cars%04d.jpg')"
   ]
  },
  {
   "cell_type": "code",
   "execution_count": 13,
   "id": "d7b14f54-9974-4cb9-aaf6-0fb52ca00c69",
   "metadata": {},
   "outputs": [],
   "source": [
    "#Reading Video from a Webcam\n",
    "vid_capture = cv2.VideoCapture(0,cv2.CAP_DSHOW)\n",
    "\n",
    "#If you have more than one camera connected to your system, then the device index associated with\n",
    "#each additional camera is incremented (e.g. 1,2, etc)"
   ]
  },
  {
   "cell_type": "code",
   "execution_count": 14,
   "id": "6db81e2f-156f-4b3d-a661-433e74fef1de",
   "metadata": {},
   "outputs": [],
   "source": [
    "#Writing Videos == Creating new video!\n",
    "#Obtain frame size information using get() method\n",
    "frame_width = int(vid_capture.get(3))\n",
    "frame_height = int(vid_capture.get(4))\n",
    "frame_size = (frame_width, frame_height)\n",
    "fps = 20"
   ]
  },
  {
   "cell_type": "code",
   "execution_count": 28,
   "id": "cc4e5a13-fc06-4b0c-9ea5-dbb22ae325c8",
   "metadata": {},
   "outputs": [],
   "source": [
    "#Initialize video writer object\n",
    "output = cv2.VideoWriter('./Learn_OpenCV/video.mp4',cv2.VideoWriter_fourcc('M','J','P','G'),20,frame_size)"
   ]
  },
  {
   "cell_type": "code",
   "execution_count": 29,
   "id": "d2dc4667-d4c9-4cdc-b930-7699e8eacfbb",
   "metadata": {},
   "outputs": [
    {
     "name": "stdout",
     "output_type": "stream",
     "text": [
      "Stream disconnected\n"
     ]
    }
   ],
   "source": [
    "while(vid_capture.isOpened()):\n",
    "    #vid_capture.read() methods returns a tuple, first element is a bool\n",
    "    # and the second is frame\n",
    "\n",
    "    ret, frame = vid_capture.read()\n",
    "    if ret == True:\n",
    "        #write the frame to the output files\n",
    "        output.write(frame)\n",
    "    else:\n",
    "        print('Stream disconnected')\n",
    "        break"
   ]
  },
  {
   "cell_type": "code",
   "execution_count": 31,
   "id": "f6f9e767-b7d2-46ed-ad26-9bb90c6fced5",
   "metadata": {},
   "outputs": [],
   "source": [
    "#Release the objects\n",
    "vid_capture.release()\n",
    "output.release()"
   ]
  }
 ],
 "metadata": {
  "kernelspec": {
   "display_name": "Python 3 (ipykernel)",
   "language": "python",
   "name": "python3"
  },
  "language_info": {
   "codemirror_mode": {
    "name": "ipython",
    "version": 3
   },
   "file_extension": ".py",
   "mimetype": "text/x-python",
   "name": "python",
   "nbconvert_exporter": "python",
   "pygments_lexer": "ipython3",
   "version": "3.11.5"
  }
 },
 "nbformat": 4,
 "nbformat_minor": 5
}
