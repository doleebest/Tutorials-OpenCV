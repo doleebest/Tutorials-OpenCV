{
 "cells": [
  {
   "cell_type": "code",
   "execution_count": 1,
   "metadata": {},
   "outputs": [],
   "source": [
    "import cv2\n",
    "\n",
    "#Lists to store the points\n",
    "top_left_corner=[]\n",
    "bottom_right_corner=[]\n",
    "\n",
    "# Called only when certain user interface events are detected, \n",
    "# this type of functions came to be known as the ‘Callback’ functions\n",
    "\n"
   ]
  },
  {
   "cell_type": "code",
   "execution_count": 2,
   "metadata": {},
   "outputs": [],
   "source": [
    "def drawRectangle(action, x, y, flags, *userdata):\n",
    "    # referencing global variables\n",
    "    global top_left_corner, bottom_right_corner\n",
    "    #mark the top left corner, when left mouse button is pressed\n",
    "    if action == cv2.EVENT_LBUTTONDOWN :\n",
    "        top_left_corner = [(x,y)]\n",
    "        #when left mouse button is released, mark button right corner\n",
    "    elif action == cv2.EVENT_LBUTTONUP :\n",
    "        bottom_right_corner = [(x,y)]\n",
    "        # draw the rectangle \n",
    "        cv2.rectangle(image, top_left_corner[0], bottom_right_corner[0],(0,255,0),2,8)\n",
    "        cv2.imshow(\"Window\",image)"
   ]
  },
  {
   "cell_type": "code",
   "execution_count": null,
   "metadata": {},
   "outputs": [],
   "source": [
    "# cv2.setMouseCallback(winname, onMouse, userdata)\n",
    "# winname: Name of the window\n",
    "# onMouse: Callback function for mouse events\n",
    "# userdata: Optional argument passed to the callback"
   ]
  },
  {
   "cell_type": "code",
   "execution_count": 4,
   "metadata": {},
   "outputs": [],
   "source": [
    "# Read images\n",
    "image = cv2.imread(\"jellyfish.jpg\")\n",
    "#make a temporary image, will be useful to clear the drawing\n",
    "temp = image.copy()\n",
    "# cread a named window\n",
    "cv2.namedWindow(\"Window\")\n",
    "# highgui function called when mouse events occur\n",
    "cv2.setMouseCallback(\"Window\",drawRectangle)"
   ]
  },
  {
   "cell_type": "code",
   "execution_count": 6,
   "metadata": {},
   "outputs": [],
   "source": [
    "k=0\n",
    "while k!=113:\n",
    "    cv2.imshow(\"Window\",image)\n",
    "    k=cv2.waitKey(0)\n",
    "    if(k==99):\n",
    "        image=temp.copy()\n",
    "        cv2.imshow(\"Window\",image)\n",
    "        \n",
    "cv2.destroyAllWindows()"
   ]
  },
  {
   "cell_type": "code",
   "execution_count": 7,
   "metadata": {},
   "outputs": [],
   "source": [
    "#resizing an image using the trackbar\n",
    "import cv2\n",
    "\n",
    "maxScaleUp = 100\n",
    "scaleFactor = 1\n",
    "windowName = \"Resize Image\"\n",
    "trackbarValue = \"Scale\""
   ]
  },
  {
   "cell_type": "code",
   "execution_count": 8,
   "metadata": {},
   "outputs": [],
   "source": [
    "image = cv2.imread(\"jellyfish.jpg\")\n",
    "\n",
    "#create a window to display results\n",
    "cv2.namedWindow(windowName, cv2.WINDOW_AUTOSIZE)"
   ]
  },
  {
   "cell_type": "code",
   "execution_count": 9,
   "metadata": {},
   "outputs": [],
   "source": [
    "def scaleImage(*args):\n",
    "    #get the scale factor from the trackbar\n",
    "    scaleFactor = 1+ args[0]/100.0\n",
    "\n",
    "    #resize the image\n",
    "    scaledImage = cv2.resize(image, None, fx=scaleFactor, fy=scaleFactor, interpolation=cv2.INTER_LINEAR)\n",
    "    cv2.imshow(windowName, scaledImage)"
   ]
  },
  {
   "cell_type": "code",
   "execution_count": null,
   "metadata": {},
   "outputs": [],
   "source": [
    "# cv2.createTrackbar( trackbarName, windowName, value, count, onChange)\n",
    "# trackbarname: Name of the created trackbar.\n",
    "# winname: Name of the parent window of the created trackbar.\n",
    "# value: Default position of the slider. This is optional.\n",
    "# count: Till what value the slider will go.\n",
    "# onChange: Callback function.\n",
    "# userdata: User data that is passed to the callback function. It can be used to handle trackbar events, without using global variables."
   ]
  },
  {
   "cell_type": "code",
   "execution_count": 11,
   "metadata": {},
   "outputs": [],
   "source": [
    "\t\n",
    "cv2.createTrackbar(trackbarValue, windowName, scaleFactor, maxScaleUp, scaleImage)"
   ]
  },
  {
   "cell_type": "code",
   "execution_count": 12,
   "metadata": {},
   "outputs": [],
   "source": [
    "cv2.imshow(windowName, image)\n",
    "cv2.waitKey(0)\n",
    "cv2.destroyAllWindows()"
   ]
  }
 ],
 "metadata": {
  "kernelspec": {
   "display_name": "OpenCV-master-py3",
   "language": "python",
   "name": "python3"
  },
  "language_info": {
   "codemirror_mode": {
    "name": "ipython",
    "version": 3
   },
   "file_extension": ".py",
   "mimetype": "text/x-python",
   "name": "python",
   "nbconvert_exporter": "python",
   "pygments_lexer": "ipython3",
   "version": "3.11.5"
  }
 },
 "nbformat": 4,
 "nbformat_minor": 2
}
