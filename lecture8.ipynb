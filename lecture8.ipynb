{
 "cells": [
  {
   "cell_type": "code",
   "execution_count": 2,
   "metadata": {},
   "outputs": [],
   "source": [
    "# Image filtering using convolution in OpenCV\n",
    "\n",
    "# convolution kernel is a 2D matrix that is used to filter images.\n",
    "# mathematical operations : blurring is referred to as smoothing\n",
    "# to remove a distracting background, you might intentinally blur portions of an image, as\n",
    "# is done in 'Portrait' mode, on mobile device cameras.\n",
    "\n",
    "# Filtering of a source image is achieved by convolving the kernel with the image.\n",
    "# Assume that the center of the kernel is positioned over a specific pixel (p), in an image.\n",
    "# Then multiply the value of each element in the kernel (1 in this case), with the corresponding pixel element (i.e. its pixel intensity) in the source image.\n",
    "# Now, sum the result of those multiplications and compute the average.\n",
    "# Finally, replace the value of pixel (p), with the average value you just computed."
   ]
  },
  {
   "cell_type": "code",
   "execution_count": 3,
   "metadata": {},
   "outputs": [],
   "source": [
    "# applying the identity kernel to an image in OpenCV\n",
    "# identity kernel is a square matrix, where the middle element is 1, and all other elements are zero.\n",
    "# 0 0 0\n",
    "# 0 1 0\n",
    "# 0 0 0\n",
    "\n",
    "# multiplying it with any other matrix will return the original matrix\n",
    "\n",
    "import cv2\n",
    "import numpy as np"
   ]
  },
  {
   "cell_type": "code",
   "execution_count": 4,
   "metadata": {},
   "outputs": [],
   "source": [
    "# read the test image\n",
    "# define the identity kernel, using a 3*3 numpy array\n",
    "# use the filter2D() funtion in OpenCV to perform the linear filtering operation\n",
    "# display the original and filtered images, using imshow()\n",
    "# save the filtered image to disk, using imwrite()\n",
    "\n",
    "image = cv2.imread('wood.jpg')\n",
    "\n",
    "\"apply identity kernel\"\n",
    "kernel1 = np. array([[0,0,0],\n",
    "                    [0,1,0],\n",
    "                    [0,0,0]])\n",
    "# filter2D() function can be used to apply kernel to an image.\n",
    "# Where ddepth is the desired depth of final image. ddepth is -1 if...\n",
    "# ... depth is same as original or source image.\n",
    "identity = cv2.filter2D(src=image, ddepth=-1, kernel=kernel1)\n",
    "\n",
    "#we should get the same image\n",
    "cv2.imshow('origina', image)\n",
    "cv2.imshow('identity', identity)\n",
    "\n",
    "cv2.waitKey()\n",
    "cv2.imwrite('identity.jpg', identity)\n",
    "cv2.destroyAllWindows()\n",
    "# the filtered image (on the right) appears identical to the original image"
   ]
  },
  {
   "cell_type": "code",
   "execution_count": 5,
   "metadata": {},
   "outputs": [],
   "source": [
    "# blurring an image using a custom 2d-convolution kernel\n",
    "\n",
    "# we will demonstrate how to blur an image. \n",
    "# Here too, we will define a custom kernel, and use the filter2D() function in OpenCV to apply the filtering operation on the source image.\n",
    "\n",
    "# we also divide the kernel by 25\n",
    "# why? before you apply any convolution to an image, using a 2D-convolution matrix,\n",
    "# you need to ensure that all the values are normalized.\n",
    "# This is done by dividing each element of the kernel, by the number of elements in the kernel, == 25\n",
    "# this ensures all values stay within the range of [0,1]"
   ]
  },
  {
   "cell_type": "code",
   "execution_count": 6,
   "metadata": {},
   "outputs": [],
   "source": [
    "\"\"\"\n",
    "Apply blurring kernel\n",
    "\"\"\"\n",
    "\n",
    "kernel2 = np.ones((5,5), np.float32) / 25\n",
    "img = cv2.filter2D(src=image, ddepth=-1, kernel=kernel2)\n",
    "\n",
    "cv2.imshow('Original',image)\n",
    "cv2.imshow('Kerner Blur',img)\n",
    "\n",
    "cv2.waitKey()\n",
    "cv2.imwrite('blur_kernel.jpg', img)\n",
    "cv2.destroyAllWindows()"
   ]
  },
  {
   "cell_type": "code",
   "execution_count": 7,
   "metadata": {},
   "outputs": [],
   "source": [
    "# Blurring an image using opencv's built-in function\n",
    "\"\"\"\n",
    "Apply blur using 'blur()' function\n",
    "\"\"\"\n",
    "img_blur = cv2.blur(src=image, ksize=(5,5)) # Using the blur function to blur an image where ksize is the kernel size\n",
    "\n",
    "# Display using cv2.imshow()\n",
    "cv2.imshow('Original', image)\n",
    "cv2.imshow('Blurred', img_blur)\n",
    "\n",
    "cv2.waitKey()\n",
    "cv2.imwrite('blur.jpg', img_blur)\n",
    "cv2.destroyAllWindows()\n"
   ]
  },
  {
   "cell_type": "code",
   "execution_count": 8,
   "metadata": {},
   "outputs": [],
   "source": [
    "# Applying Gaussian Blurring to an Image in OpenCV\n",
    "\n",
    "#The first argument, src, specifies the source image that you want to filter.\n",
    "#The second argument is ksize, which defines the size of the Gaussian kernel. Here, we are using a 5×5 kernel.\n",
    "#The final two arguments are sigmaX and sigmaY, which are both set to 0. These are the Gaussian kernel standard deviations, in the X (horizontal) and Y (vertical) direction. \n",
    "# The default setting of sigmaY is zero. If you simply set sigmaX to zero, then the standard deviations are computed from the kernel size (width and height respectively). \n",
    "# You can also explicitly set the size of each argument to positive values greater than zero."
   ]
  },
  {
   "cell_type": "code",
   "execution_count": 9,
   "metadata": {},
   "outputs": [],
   "source": [
    "\"\"\"\n",
    "apply gaussian blur\n",
    "\"\"\"\n",
    "# sigmaX is Gaussian Kernel standard deviation\n",
    "# ksize is kernel size\n",
    "gaussian_blur = cv2.GaussianBlur(src=image, ksize=(5,5), sigmaX=0, sigmaY=0)\n",
    "\n",
    "cv2.imshow('Original',image)\n",
    "cv2.imshow('Gaussian Blurred',gaussian_blur)\n",
    "\n",
    "cv2.waitKey()\n",
    "cv2.imwrite('gaussian_blur.jpg', gaussian_blur)\n",
    "cv2.destroyAllWindows()"
   ]
  },
  {
   "cell_type": "code",
   "execution_count": 10,
   "metadata": {},
   "outputs": [],
   "source": [
    "# Applying median blurring to an image in opencv\n",
    "\n",
    "\"\"\"\n",
    "apply median blur\n",
    "\"\"\"\n",
    "\n",
    "# medianBlur() is used to apply Median blur to image\n",
    "# ksize is the kernel size\n",
    "median = cv2.medianBlur(src=image, ksize=5)\n",
    "\n",
    "cv2.imshow('Original', image)\n",
    "cv2.imshow('Median Blurred',median)\n",
    "\n",
    "cv2.waitKey()\n",
    "cv2.waitKey()\n",
    "cv2.imwrite('median_blur.jpg',median)\n",
    "cv2.destroyAllWindows()"
   ]
  },
  {
   "cell_type": "code",
   "execution_count": 11,
   "metadata": {},
   "outputs": [],
   "source": [
    "# Sharpening an image using custom 2d-convolution kernels\n",
    "\n",
    "\"\"\"\n",
    "Apply sharpening using kernel\n",
    "\"\"\"\n",
    "\n",
    "kernel3 = np.array([[0,-1,0],\n",
    "                    [-1,5,-1],\n",
    "                    [0,-1,0]])\n",
    "sharp_img = cv2.filter2D(src=image, ddepth=-1, kernel=kernel3)\n",
    "\n",
    "cv2.imshow('Original',image)\n",
    "cv2.imshow('Sharpened',sharp_img)\n",
    "\n",
    "cv2.waitKey()\n",
    "cv2.imwrite('sharp_image.jpg',sharp_img)\n",
    "cv2.destroyAllWindows()"
   ]
  },
  {
   "cell_type": "code",
   "execution_count": null,
   "metadata": {},
   "outputs": [],
   "source": [
    "#Applying Bilateral Filtering to an Image in OpenCV\n",
    "\n",
    "# While blurring can be an effective way to reduce noise in an image, \n",
    "# it is often not desirable to blur the entire image, as important details and sharp edges may be lost. \n",
    "# In such cases, bilateral filtering can make your life easier.\n",
    "\n",
    "\"\"\"\n",
    "apply bilateral filtering\n",
    "\"\"\"\n",
    "\n",
    "# Using the function bilateralFilter() where d is diameter of each...\n",
    "# ...pixel neighborhood that is used during filtering.\n",
    "# sigmaColor is used to filter sigma in the color space.\n",
    "# sigmaSpace is used to filter sigma in the coordinate space.\n",
    "\n",
    "bilateral_filter = cv2.bilateralFilter(src=image, d=9, sigmaColor=75, sigmaSpace=75)\n",
    "\n",
    "cv2.imshow('Original', image)\n",
    "cv2.imshow('Bilateral Filtering', bilateral_filter)\n",
    "\n",
    "cv2.waitKey(0)\n",
    "cv2.imwrite('bilateral_filtering.jpg', bilateral_filter)\n",
    "cv2.destroyAllWindows()\n"
   ]
  }
 ],
 "metadata": {
  "kernelspec": {
   "display_name": "OpenCV-master-py3",
   "language": "python",
   "name": "python3"
  },
  "language_info": {
   "codemirror_mode": {
    "name": "ipython",
    "version": 3
   },
   "file_extension": ".py",
   "mimetype": "text/x-python",
   "name": "python",
   "nbconvert_exporter": "python",
   "pygments_lexer": "ipython3",
   "version": "3.11.5"
  }
 },
 "nbformat": 4,
 "nbformat_minor": 2
}
