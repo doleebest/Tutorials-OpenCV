{
 "cells": [
  {
   "cell_type": "code",
   "execution_count": null,
   "metadata": {},
   "outputs": [],
   "source": [
    "# Global thresholding\n",
    "# When the thresholding rule is applied equally to every pixel in the image, and the threshold value is fixed, \n",
    "# the operations are called global. \n",
    "\n",
    "#Global thresholding algorithms take a source image (src) \n",
    "#and a threshold value (thresh) as input, \n",
    "# and produce an output image (dst), by comparing the pixel intensity at source pixel location (x,y) to the threshold.\n",
    "\n"
   ]
  }
 ],
 "metadata": {
  "language_info": {
   "name": "python"
  }
 },
 "nbformat": 4,
 "nbformat_minor": 2
}
