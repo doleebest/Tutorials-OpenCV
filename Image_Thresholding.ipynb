{
 "cells": [
  {
   "cell_type": "code",
   "execution_count": null,
   "metadata": {},
   "outputs": [],
   "source": [
    "# Global thresholding\n",
    "# When the thresholding rule is applied equally to every pixel in the image, and the threshold value is fixed, \n",
    "# the operations are called global. \n",
    "\n",
    "#Global thresholding algorithms take a source image (src) \n",
    "#and a threshold value (thresh) as input, \n",
    "# and produce an output image (dst), by comparing the pixel intensity at source pixel location (x,y) to the threshold.\n",
    "\n",
    "#The simples form of global thresholding is called binary thresholding\n",
    "# In addition to the source image (src) and the threshold value (thresh ), \n",
    "# it takes another input parameter called the maximum value (maxValue).\n",
    "# At each pixel location (x,y), the pixel intensity at that location is compared to  a threshold value,  thresh ."
   ]
  },
  {
   "cell_type": "code",
   "execution_count": 3,
   "metadata": {},
   "outputs": [],
   "source": [
    "#Binary threshold\n",
    "# if src(x,y) > thresh :\n",
    "#    dst(x,y) = maxValue\n",
    "#else \n",
    "#    dst(x,y) = 0\n"
   ]
  },
  {
   "cell_type": "code",
   "execution_count": 5,
   "metadata": {},
   "outputs": [],
   "source": [
    "import cv2\n",
    "\n",
    "#Read image\n",
    "src = cv2.imread(\"number.jpg\", cv2.IMREAD_GRAYSCALE)\n",
    "\n",
    "#set threshold and maxValue\n",
    "thresh = 0\n",
    "maxValue = 255\n",
    "\n",
    "#Basic threshold example\n",
    "th, dst = cv2.threshold(src, thresh, maxValue, cv2.THRESH_BINARY)"
   ]
  },
  {
   "cell_type": "code",
   "execution_count": 6,
   "metadata": {},
   "outputs": [],
   "source": [
    "th, dst = cv2.threshold(src, thresh, maxValue, cv2.THRESH_BINARY_INV)"
   ]
  },
  {
   "cell_type": "code",
   "execution_count": 7,
   "metadata": {},
   "outputs": [],
   "source": [
    "th, dst = cv2.threshold(src, thresh, maxValue, cv2.THRESH_TRUNC)"
   ]
  },
  {
   "cell_type": "code",
   "execution_count": 8,
   "metadata": {},
   "outputs": [],
   "source": [
    "th, dst = cv2.threshold(src, thresh, maxValue, cv2.THRESH_TOZERO)"
   ]
  },
  {
   "cell_type": "code",
   "execution_count": 9,
   "metadata": {},
   "outputs": [],
   "source": [
    "th,dst = cv2.threshold(src, thresh, maxValue, cv2.THRESH_TOZERO_INV)"
   ]
  }
 ],
 "metadata": {
  "kernelspec": {
   "display_name": "OpenCV-master-py3",
   "language": "python",
   "name": "python3"
  },
  "language_info": {
   "codemirror_mode": {
    "name": "ipython",
    "version": 3
   },
   "file_extension": ".py",
   "mimetype": "text/x-python",
   "name": "python",
   "nbconvert_exporter": "python",
   "pygments_lexer": "ipython3",
   "version": "3.11.5"
  }
 },
 "nbformat": 4,
 "nbformat_minor": 2
}
