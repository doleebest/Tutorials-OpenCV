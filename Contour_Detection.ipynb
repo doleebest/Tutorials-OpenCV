{
 "cells": [
  {
   "cell_type": "code",
   "execution_count": 2,
   "metadata": {},
   "outputs": [],
   "source": [
    "#application of contours in computer vision\n",
    "# motion detection\n",
    "# unattended object detection\n",
    "# background / foreground segmentation\n",
    "\n",
    "# OpenCV provides two simple functions : findContours(), drawContours()\n",
    "# it has two different algorithms for contour detection: CHAIN_APPROX_SIMPLE, CHAIN_APPROX_NONE"
   ]
  },
  {
   "cell_type": "code",
   "execution_count": 3,
   "metadata": {},
   "outputs": [],
   "source": [
    "# Steps for detecting and drawing contours in opencv\n",
    "# read the image and convert it to grayscale format\n",
    "# 1) apply binary thresholding\n",
    "# 2) Apply binary thresholding\n",
    "# 3) find the contours\n",
    "# 4) draw contours on the original RGB image"
   ]
  },
  {
   "cell_type": "code",
   "execution_count": 4,
   "metadata": {},
   "outputs": [],
   "source": [
    "# Finding and Drawing contours using opencv\n",
    "import cv2\n",
    "#read the image\n",
    "image = cv2.imread(\"phone.png\")\n",
    "#convert the image to grayscale format\n",
    "img_gray = cv2.cvtColor(image, cv2.COLOR_BGR2GRAY)"
   ]
  },
  {
   "cell_type": "code",
   "execution_count": 5,
   "metadata": {},
   "outputs": [],
   "source": [
    "# threshold() function to apply a binary threshold to the image. \n",
    "# Any pixel with a value greater than 150 will be set to a value of 255 (white). All remaining pixels in the resulting image will be set to 0 (black). \n",
    "# The threshold value of 150 is a tunable parameter, so you can experiment with it.\n",
    "\n",
    "# apply binary thresholding\n",
    "ret, thresh = cv2.threshold(img_gray, 150, 255, cv2.THRESH_BINARY)\n",
    "#visulaize the binary image\n",
    "cv2.imshow('Binary image', thresh)\n",
    "cv2.waitKey(0)\n",
    "cv2.imwrite('image_thres1.jpg', thresh)\n",
    "cv2.destroyAllWindows()"
   ]
  },
  {
   "cell_type": "code",
   "execution_count": 6,
   "metadata": {},
   "outputs": [],
   "source": [
    "# drawing contours using CHAIN_APPROX_NONE\n",
    "#  mode refers to the type of contours that will be retrieved, \n",
    "# while method refers to which points within a contour are stored\n",
    "\n",
    "# detect the contours on the binary image using cv2.CHAIN_APPROX_NONE\n",
    "contours, hierarchy = cv2.findContours(image=thresh, mode=cv2.RETR_TREE, method=cv2.CHAIN_APPROX_NONE)\n",
    "\n",
    "# draw contours on the original image\n",
    "image_copy = image.copy()\n",
    "cv2.drawContours(image=image_copy, contours=contours, contourIdx=-1, color=(0,255,0), thickness=2, lineType=cv2.LINE_AA)\n",
    "\n",
    "# see the results\n",
    "cv2.imshow('None approximation', image_copy)\n",
    "cv2.waitKey(0)\n",
    "cv2.imwrite('contours_none_image1.jpg', image_copy)\n",
    "cv2.destroyAllWindows()\n"
   ]
  },
  {
   "cell_type": "code",
   "execution_count": 7,
   "metadata": {},
   "outputs": [],
   "source": [
    "# Using single channel : Red, green, or blue\n",
    "import cv2\n",
    "image = cv2.imread('phone.png')\n",
    "\n",
    "#B,G,R channel splitting\n",
    "blue, green, red = cv2.split(image)\n",
    "\n",
    "#detect contours using blue channel and without thresholding\n",
    "contours1, hierarchy1 = cv2.findContours(image=blue, mode=cv2.RETR_TREE, method=cv2.CHAIN_APPROX_NONE)\n",
    "\n",
    "# draw contours on the original image\n",
    "image_contour_blue = image.copy()\n",
    "cv2.drawContours(image=image_contour_blue, contours=contours1, contourIdx=-1, color=(0,255,0), thickness=2, lineType=cv2.LINE_AA)\n",
    "\n",
    "#see the results\n",
    "cv2.imshow('Contour detection using blue channels only', image_contour_blue)\n",
    "cv2.waitKey(0)\n",
    "cv2.imwrite('blue_channel.jpg', image_contour_blue)\n",
    "cv2.destroyAllWindows()\n",
    "\n",
    "#detect contours using green channel and without thresholding\n",
    "contours2, hierarchy2 = cv2.findContours(image= green, mode=cv2.RETR_TREE, method=cv2.CHAIN_APPROX_NONE)\n",
    "# draw contours on the original image\n",
    "image_contour_green = image.copy()\n",
    "cv2.drawContours(image=image_contour_green, contours=contours2, contourIdx=-1, color=(0,255,0), thickness=2, lineType=cv2.LINE_AA)\n",
    "\n",
    "# see the results\n",
    "cv2.imshow('Contour detection using green channesl only', image_contour_green )\n",
    "cv2.waitKey(0)\n",
    "cv2.imwrite('green_channel.jpg', image_contour_green)\n",
    "cv2.destroyAllWindows()\n",
    "\n",
    "#detect contours using red channel and without thresholding\n",
    "contours3, hierarchy3 = cv2.findContours(image=red, mode=cv2.RETR_TREE, method=cv2.CHAIN_APPROX_NONE)\n",
    "# draw contours on the original image\n",
    "image_contour_red = image.copy()\n",
    "cv2.drawContours(image=image_contour_red, contours=contours3, contourIdx=-1, color=(0,255,0), thickness=2, lineType=cv2.LINE_AA)\n",
    "# see the results\n",
    "cv2.imshow('Contour detection using red channels only', image_contour_red)\n",
    "cv2.waitKey(0)\n",
    "cv2.imwrite('red_channel.jpg', image_contour_red)\n",
    "cv2.destroyAllWindows()"
   ]
  },
  {
   "cell_type": "code",
   "execution_count": 8,
   "metadata": {},
   "outputs": [],
   "source": [
    "# drawing contours using CHAIN_APPROX_SIMPLE\n",
    "\"\"\"\n",
    "Now let's try with `cv2.CHAIN_APPROX_SIMPLE`\n",
    "\"\"\"\n",
    "\n",
    "#detect the contours on the binary image using cv2.CHAIN_APPROX_SIMPLE\n",
    "contours1, hierarchy1 = cv2.findContours(thresh, cv2.RETR_TREE, cv2.CHAIN_APPROX_SIMPLE)\n",
    "#draw contours on the original image for 'CHAIN_APPROX_SIMPLE\n",
    "image_copy1 = image.copy()\n",
    "cv2.drawContours(image_copy1, contours1, -1, (0,255,0), 2, cv2.LINE_AA)\n",
    "\n",
    "# see the results\n",
    "cv2.imshow('Simple approximation', image_copy1)\n",
    "cv2.waitKey(0)\n",
    "cv2.imwrite('contours_simple_image1.jpg', image_copy1)\n",
    "cv2.destroyAllWindows()"
   ]
  },
  {
   "cell_type": "code",
   "execution_count": 9,
   "metadata": {},
   "outputs": [],
   "source": [
    "# The CHAIN_APPROX_SIMPLE  algorithm compresses horizontal, vertical, and diagonal segments along the contour and leaves only their end points. \n",
    "# This means that any of the points along the straight paths will be dismissed, and we will be left with only the end points. \n",
    "# This method is faster than the CHAIN_APPROX_NONE because the algorithm does not store all the points, uses less memory, and therefore, takes less time to execute.\n",
    "\n",
    "# The most straightforward way is to loop over the contour points manually, and draw a circle on the detected contour coordinates, using OpenCV. \n",
    "# Also, we use a different image that will actually help us visualize the results of the algorithm.\n",
    "\n",
    "# to actually visualize the effect of 'CHAIN_AAPROX_SIMPLE\", we need a proper image\n",
    "image1 = cv2.imread('book.jpg')\n",
    "img_gray1 = cv2.cvtColor(image1, cv2.COLOR_BGR2GRAY)\n",
    "\n",
    "ret, thresh1 = cv2.threshold(img_gray1, 150, 255, cv2.THRESH_BINARY)\n",
    "contours2, hierarchy2 = cv2.findContours(thresh1, cv2.RETR_TREE, cv2.CHAIN_APPROX_SIMPLE)\n",
    "\n",
    "image_copy2 = image1.copy()\n",
    "cv2.drawContours(image_copy2, contours2, -1, (0,255,0),2, cv2.LINE_AA)\n",
    "cv2.imshow('SIMPLE Approxiamtion contours', image_copy2)\n",
    "cv2.waitKey(0)\n",
    "image_copy3 = image1.copy()\n",
    "for i, contour in enumerate(contours) :\n",
    "    for j, contour_point in enumerate(contour) :\n",
    "        cv2.circle(image_copy3, ((contour_point[0][0], contour_point[0][1])), 2, (0,255,0), 2, cv2.LINE_AA)\n",
    "\n",
    "cv2.imshow('CHAIN_APPROX_SIMPLE point only', image_copy3)\n",
    "cv2.waitKey(0)\n",
    "cv2.imwrite('contour_point_simple.jpg', image_copy3)\n",
    "cv2.destroyAllWindows()"
   ]
  },
  {
   "cell_type": "code",
   "execution_count": 10,
   "metadata": {},
   "outputs": [],
   "source": [
    "# contour hierarchies\n",
    "# is represented as an array, which in turn contains arrays of four values\n",
    "# 1) Next: Denotes the next contour in an image, which is at the same hierarchical level\n",
    "# 2) Previous: Denotes the previous contour at the same hierarchical level. This means that contour 1 will always have its Previous value as -1.\n",
    "# 3) First_Child: Denotes the first child contour of the contour we are currently considering\n",
    "# 4) Parent: Denotes the parent contour’s index position for the current contour. "
   ]
  },
  {
   "cell_type": "code",
   "execution_count": 11,
   "metadata": {},
   "outputs": [],
   "source": [
    "# Different contour retrieval techniques\n",
    "# RETR_TREE to find and draw contours\n",
    "# RETR_LIST, RETR_EXTERNAL and RETR_CCOMPT\n",
    "\n",
    "\"\"\"\n",
    "Contour detection and drawing using different extraction modes to complement\n",
    "the understanding of hierarchies\n",
    "\"\"\"\n",
    "\n",
    "image2 = cv2.imread('hierarchy.jpg')\n",
    "img_gray2 = cv2.cvtColor(image2, cv2.COLOR_BGR2GRAY)\n",
    "ret, thresh2 = cv2.threshold(img_gray2, 150,255, cv2.THRESH_BINARY)"
   ]
  },
  {
   "cell_type": "code",
   "execution_count": 12,
   "metadata": {},
   "outputs": [
    {
     "name": "stdout",
     "output_type": "stream",
     "text": [
      "LIST: [[[ 1 -1 -1 -1]\n",
      "  [ 2  0 -1 -1]\n",
      "  [ 3  1 -1 -1]\n",
      "  [ 4  2 -1 -1]\n",
      "  [-1  3 -1 -1]]]\n"
     ]
    }
   ],
   "source": [
    "# RETR_LIST contour retrieval method does not create any parent child relationship between the extracted contours. \n",
    "# So, for all the contour areas that are detected, the First_Child and Parent index position values are always -1\n",
    "\n",
    "contours3, hierarchy3 = cv2.findContours(thresh2, cv2.RETR_LIST, cv2.CHAIN_APPROX_NONE)\n",
    "image_copy4 = image2.copy()\n",
    "cv2.drawContours(image_copy4, contours3, -1, (0, 255, 0), 2, cv2.LINE_AA)\n",
    "# see the results\n",
    "cv2.imshow('LIST', image_copy4)\n",
    "print(f\"LIST: {hierarchy3}\")\n",
    "cv2.waitKey(0)\n",
    "cv2.imwrite('contours_retr_list.jpg', image_copy4)\n",
    "cv2.destroyAllWindows()"
   ]
  },
  {
   "cell_type": "code",
   "execution_count": 13,
   "metadata": {},
   "outputs": [
    {
     "name": "stdout",
     "output_type": "stream",
     "text": [
      "EXTERNAL: [[[ 1 -1 -1 -1]\n",
      "  [ 2  0 -1 -1]\n",
      "  [-1  1 -1 -1]]]\n"
     ]
    }
   ],
   "source": [
    "#RETR_EXTERNAL\n",
    "# only detects the parent contours, and ignores any child contours.\n",
    "\n",
    "contours4, hierarchy4 = cv2.findContours(thresh2, cv2.RETR_EXTERNAL, cv2.CHAIN_APPROX_NONE)\n",
    "image_copy5 = image2.copy()\n",
    "cv2.drawContours(image_copy5, contours4, -1, (0, 255, 0), 2, cv2.LINE_AA)\n",
    "# see the results\n",
    "cv2.imshow('EXTERNAL', image_copy5)\n",
    "print(f\"EXTERNAL: {hierarchy4}\")\n",
    "cv2.waitKey(0)\n",
    "cv2.imwrite('contours_retr_external.jpg', image_copy5)\n",
    "cv2.destroyAllWindows()"
   ]
  },
  {
   "cell_type": "code",
   "execution_count": 14,
   "metadata": {},
   "outputs": [
    {
     "name": "stdout",
     "output_type": "stream",
     "text": [
      "CCOMP: [[[ 1 -1 -1 -1]\n",
      "  [ 3  0  2 -1]\n",
      "  [-1 -1 -1  1]\n",
      "  [ 4  1 -1 -1]\n",
      "  [-1  3 -1 -1]]]\n"
     ]
    }
   ],
   "source": [
    "# RETR_CCOMP\n",
    "\n",
    "# All the outer contours will have hierarchy level 1\n",
    "# All the inner contours will have hierarchy level 2\n",
    "\n",
    "#  contour 4 will have hierarchy level 1.\n",
    "# If there are any contours inside contour 4, they will have hierarchy level 2.\n",
    "\n",
    "contours5, hierarchy5 = cv2.findContours(thresh2, cv2.RETR_CCOMP, cv2.CHAIN_APPROX_NONE)\n",
    "image_copy6 = image2.copy()\n",
    "cv2.drawContours(image_copy6, contours5, -1, (0, 255, 0), 2, cv2.LINE_AA)\n",
    " \n",
    "# see the results\n",
    "cv2.imshow('CCOMP', image_copy6)\n",
    "print(f\"CCOMP: {hierarchy5}\")\n",
    "cv2.waitKey(0)\n",
    "cv2.imwrite('contours_retr_ccomp.jpg', image_copy6)\n",
    "cv2.destroyAllWindows()"
   ]
  },
  {
   "cell_type": "code",
   "execution_count": 15,
   "metadata": {},
   "outputs": [
    {
     "name": "stdout",
     "output_type": "stream",
     "text": [
      "TREE: [[[ 3 -1  1 -1]\n",
      "  [-1 -1  2  0]\n",
      "  [-1 -1 -1  1]\n",
      "  [ 4  0 -1 -1]\n",
      "  [-1  3 -1 -1]]]\n"
     ]
    }
   ],
   "source": [
    "# RETR_TREE\n",
    "\n",
    "# Contours 1, 2, and 3 are at the same level, that is level 0.\n",
    "# Contour 3a is present at hierarchy level 1, as it is a child of contour 3.\n",
    "# Contour 4 is a new contour area, so its hierarchy level is 2.\n",
    "\n",
    "contours6, hierarchy6 = cv2.findContours(thresh2, cv2.RETR_TREE, cv2.CHAIN_APPROX_NONE)\n",
    "image_copy7 = image2.copy()\n",
    "cv2.drawContours(image_copy7, contours6, -1, (0, 255, 0), 2, cv2.LINE_AA)\n",
    "# see the results\n",
    "cv2.imshow('TREE', image_copy7)\n",
    "print(f\"TREE: {hierarchy6}\")\n",
    "cv2.waitKey(0)\n",
    "cv2.imwrite('contours_retr_tree.jpg', image_copy7)\n",
    "cv2.destroyAllWindows()"
   ]
  },
  {
   "cell_type": "code",
   "execution_count": null,
   "metadata": {},
   "outputs": [],
   "source": [
    "# SUMMARY\n",
    "# RETR_LIST and RETR_EXTERNAL take the least amount of time to execute, since RETR_LIST does not define any hierarchy and RETR_EXTERNAL only retrieves the parent contours\n",
    "# RETR_CCOMP takes the second highest time to execute. It retrieves all the contours and defines a two-level hierarchy. \n",
    "# RETR_TREE takes the maximum time to execute for it retrieves all the contours, and defines the independent hierarchy level for each parent-child relationship as well. "
   ]
  }
 ],
 "metadata": {
  "kernelspec": {
   "display_name": "OpenCV-master-py3",
   "language": "python",
   "name": "python3"
  },
  "language_info": {
   "codemirror_mode": {
    "name": "ipython",
    "version": 3
   },
   "file_extension": ".py",
   "mimetype": "text/x-python",
   "name": "python",
   "nbconvert_exporter": "python",
   "pygments_lexer": "ipython3",
   "version": "3.11.5"
  }
 },
 "nbformat": 4,
 "nbformat_minor": 2
}
