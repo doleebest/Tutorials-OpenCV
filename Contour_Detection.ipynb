{
 "cells": [
  {
   "cell_type": "code",
   "execution_count": null,
   "metadata": {},
   "outputs": [],
   "source": [
    "#application of contours in computer vision\n",
    "# motion detection\n",
    "# unattended object detection\n",
    "# background / foreground segmentation\n",
    "\n",
    "# OpenCV provides two simple functions : findContours(), drawContours()\n",
    "# it has two different algorithms for contour detection: CHAIN_APPROX_SIMPLE, CHAIN_APPROX_NONE"
   ]
  },
  {
   "cell_type": "code",
   "execution_count": null,
   "metadata": {},
   "outputs": [],
   "source": [
    "# Steps for detecting and drawing contours in opencv\n",
    "# read the image and convert it to grayscale format\n",
    "# 1) apply binary thresholding\n",
    "# 2) Apply binary thresholding"
   ]
  }
 ],
 "metadata": {
  "language_info": {
   "name": "python"
  }
 },
 "nbformat": 4,
 "nbformat_minor": 2
}
