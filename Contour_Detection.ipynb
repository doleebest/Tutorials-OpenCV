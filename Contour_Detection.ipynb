{
 "cells": [
  {
   "cell_type": "code",
   "execution_count": null,
   "metadata": {},
   "outputs": [],
   "source": [
    "#application of contours in computer vision\n",
    "# motion detection\n",
    "# unattended object detection\n",
    "# background / foreground segmentation\n",
    "\n",
    "# OpenCV provides two simple functions : findContours(), drawContours()\n",
    "# it has two different algorithms for contour detection: CHAIN_APPROX_SIMPLE, CHAIN_APPROX_NONE"
   ]
  },
  {
   "cell_type": "code",
   "execution_count": null,
   "metadata": {},
   "outputs": [],
   "source": [
    "# Steps for detecting and drawing contours in opencv\n",
    "# read the image and convert it to grayscale format\n",
    "# 1) apply binary thresholding\n",
    "# 2) Apply binary thresholding\n",
    "# 3) find the contours\n",
    "# 4) draw contours on the original RGB image"
   ]
  },
  {
   "cell_type": "code",
   "execution_count": 2,
   "metadata": {},
   "outputs": [],
   "source": [
    "# Finding and Drawing contours using opencv\n",
    "import cv2\n",
    "#read the image\n",
    "image = cv2.imread(\"phone.png\")\n",
    "#convert the image to grayscale format\n",
    "img_gray = cv2.cvtColor(image, cv2.COLOR_BGR2GRAY)"
   ]
  },
  {
   "cell_type": "code",
   "execution_count": 3,
   "metadata": {},
   "outputs": [],
   "source": [
    "# threshold() function to apply a binary threshold to the image. \n",
    "# Any pixel with a value greater than 150 will be set to a value of 255 (white). All remaining pixels in the resulting image will be set to 0 (black). \n",
    "# The threshold value of 150 is a tunable parameter, so you can experiment with it.\n",
    "\n",
    "# apply binary thresholding\n",
    "ret, thresh = cv2.threshold(img_gray, 150, 255, cv2.THRESH_BINARY)\n",
    "#visulaize the binary image\n",
    "cv2.imshow('Binary image', thresh)\n",
    "cv2.waitKey(0)\n",
    "cv2.imwrite('image_thres1.jpg', thresh)\n",
    "cv2.destroyAllWindows()"
   ]
  },
  {
   "cell_type": "code",
   "execution_count": null,
   "metadata": {},
   "outputs": [],
   "source": [
    "# drawing contours using CHAIN_APPROX_NONE\n",
    "#  mode refers to the type of contours that will be retrieved, \n",
    "# while method refers to which points within a contour are stored\n",
    "\n",
    "# detect the contours on the binary image using cv2.CHAIN_APPROX_NONE\n",
    "contours, hierarchy = cv2.findContours(image=thresh, mode=cv2.RETR_TREE, method=cv2.CHAIN_APPROX_NONE)\n",
    "\n",
    "# draw contours on the original image\n",
    "image_copy = image.copy()\n",
    "cv2.drawContours(image=image_copy, contours=contours, contourIdx=-1, color=(0,255,0), thickness=2, lineType=cv2.LINE_AA)\n",
    "\n",
    "# see the results\n",
    "cv2.imshow('None approximation', image_copy)\n",
    "cv2.waitKey(0)\n",
    "cv2.imwrite('contours_none_image1.jpg', image_copy)\n",
    "cv2.destroyAllWindows()\n"
   ]
  }
 ],
 "metadata": {
  "kernelspec": {
   "display_name": "OpenCV-master-py3",
   "language": "python",
   "name": "python3"
  },
  "language_info": {
   "codemirror_mode": {
    "name": "ipython",
    "version": 3
   },
   "file_extension": ".py",
   "mimetype": "text/x-python",
   "name": "python",
   "nbconvert_exporter": "python",
   "pygments_lexer": "ipython3",
   "version": "3.11.5"
  }
 },
 "nbformat": 4,
 "nbformat_minor": 2
}
